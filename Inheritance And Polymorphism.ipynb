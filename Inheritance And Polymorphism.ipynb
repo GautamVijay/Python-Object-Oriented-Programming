{
 "cells": [
  {
   "cell_type": "markdown",
   "metadata": {},
   "source": [
    "# Inheritance And Polymorphism"
   ]
  },
  {
   "cell_type": "code",
   "execution_count": 1,
   "metadata": {},
   "outputs": [],
   "source": [
    "class Date(object):\n",
    "    def get_date(self):\n",
    "        return '2020-July-22'\n",
    "    \n",
    "class Time(Date):\n",
    "    def get_time(self):\n",
    "        return '12:43 PM'\n",
    "    "
   ]
  },
  {
   "cell_type": "code",
   "execution_count": 2,
   "metadata": {
    "tags": []
   },
   "outputs": [
    {
     "output_type": "stream",
     "name": "stdout",
     "text": "2020-July-22\n"
    }
   ],
   "source": [
    "dt = Date()\n",
    "print(dt.get_date())    "
   ]
  },
  {
   "cell_type": "code",
   "execution_count": 3,
   "metadata": {
    "tags": []
   },
   "outputs": [
    {
     "output_type": "stream",
     "name": "stdout",
     "text": "12:43 PM\n"
    }
   ],
   "source": [
    "tm = Time()\n",
    "print(tm.get_time())"
   ]
  },
  {
   "cell_type": "code",
   "execution_count": 4,
   "metadata": {
    "tags": []
   },
   "outputs": [
    {
     "output_type": "stream",
     "name": "stdout",
     "text": "2020-July-22\n"
    }
   ],
   "source": [
    "print(tm.get_date())"
   ]
  },
  {
   "cell_type": "markdown",
   "metadata": {},
   "source": [
    " Object.attribute LOOKUP HIERARCHY\n",
    " 1. The Instance\n",
    " 2. The Class\n",
    " 3. Any Class from which this class inherits"
   ]
  },
  {
   "cell_type": "markdown",
   "metadata": {},
   "source": [
    "## Polymorphism (\"many shapes\")"
   ]
  },
  {
   "cell_type": "code",
   "execution_count": 5,
   "metadata": {},
   "outputs": [],
   "source": [
    "class Animal(object):\n",
    "    def __init__(self, name):\n",
    "        self.name = name\n",
    "    def eat(self, food):\n",
    "        print('{} eats {}'.format(self.name, food))\n",
    "        \n",
    "class Dog(Animal):\n",
    "    def fetch(self, thing):\n",
    "        print('{} goes after the {}',format(self.name, thing))\n",
    "    def show_affection(self):\n",
    "        print('{} wags tail'.format(self.name))\n",
    "        \n",
    "class Cat(Animal):\n",
    "    def swatstring(self):\n",
    "        print('{} shred the string',format(self.name))\n",
    "    def show_affection(self):\n",
    "        print('{} purrs'.format(self.name))"
   ]
  },
  {
   "cell_type": "code",
   "execution_count": 6,
   "metadata": {
    "tags": []
   },
   "outputs": [
    {
     "output_type": "stream",
     "name": "stdout",
     "text": "Jackie wags tail\nMimi purrs\n"
    }
   ],
   "source": [
    "for a in (Dog('Jackie'), Cat('Mimi')):\n",
    "    a.show_affection()"
   ]
  },
  {
   "cell_type": "code",
   "execution_count": null,
   "metadata": {},
   "outputs": [],
   "source": []
  },
  {
   "cell_type": "code",
   "execution_count": 7,
   "metadata": {},
   "outputs": [
    {
     "output_type": "execute_result",
     "data": {
      "text/plain": "3"
     },
     "metadata": {},
     "execution_count": 7
    }
   ],
   "source": [
    "len([1,2,3])"
   ]
  },
  {
   "cell_type": "code",
   "execution_count": 8,
   "metadata": {},
   "outputs": [
    {
     "output_type": "execute_result",
     "data": {
      "text/plain": "5"
     },
     "metadata": {},
     "execution_count": 8
    }
   ],
   "source": [
    "len('hello')"
   ]
  },
  {
   "cell_type": "code",
   "execution_count": 9,
   "metadata": {},
   "outputs": [],
   "source": [
    "var = 'hello'"
   ]
  },
  {
   "cell_type": "code",
   "execution_count": 10,
   "metadata": {
    "tags": []
   },
   "outputs": [
    {
     "output_type": "stream",
     "name": "stdout",
     "text": "hello\n"
    }
   ],
   "source": [
    "print(var)"
   ]
  },
  {
   "cell_type": "code",
   "execution_count": 11,
   "metadata": {},
   "outputs": [
    {
     "output_type": "execute_result",
     "data": {
      "text/plain": "['__add__',\n '__class__',\n '__contains__',\n '__delattr__',\n '__dir__',\n '__doc__',\n '__eq__',\n '__format__',\n '__ge__',\n '__getattribute__',\n '__getitem__',\n '__getnewargs__',\n '__gt__',\n '__hash__',\n '__init__',\n '__init_subclass__',\n '__iter__',\n '__le__',\n '__len__',\n '__lt__',\n '__mod__',\n '__mul__',\n '__ne__',\n '__new__',\n '__reduce__',\n '__reduce_ex__',\n '__repr__',\n '__rmod__',\n '__rmul__',\n '__setattr__',\n '__sizeof__',\n '__str__',\n '__subclasshook__',\n 'capitalize',\n 'casefold',\n 'center',\n 'count',\n 'encode',\n 'endswith',\n 'expandtabs',\n 'find',\n 'format',\n 'format_map',\n 'index',\n 'isalnum',\n 'isalpha',\n 'isdecimal',\n 'isdigit',\n 'isidentifier',\n 'islower',\n 'isnumeric',\n 'isprintable',\n 'isspace',\n 'istitle',\n 'isupper',\n 'join',\n 'ljust',\n 'lower',\n 'lstrip',\n 'maketrans',\n 'partition',\n 'replace',\n 'rfind',\n 'rindex',\n 'rjust',\n 'rpartition',\n 'rsplit',\n 'rstrip',\n 'split',\n 'splitlines',\n 'startswith',\n 'strip',\n 'swapcase',\n 'title',\n 'translate',\n 'upper',\n 'zfill']"
     },
     "metadata": {},
     "execution_count": 11
    }
   ],
   "source": [
    "dir(var)"
   ]
  },
  {
   "cell_type": "markdown",
   "metadata": {},
   "source": [
    "## Inheriting The Constructor"
   ]
  },
  {
   "cell_type": "code",
   "execution_count": 12,
   "metadata": {},
   "outputs": [],
   "source": [
    "class Animal(object):\n",
    "    def __init__(self, name):\n",
    "        self.name = name\n",
    "    def eat(self, food):\n",
    "        print('{} eats {}'.format(self.name, food))\n",
    "        \n",
    "class Dog(Animal):\n",
    "    def fetch(self, thing):\n",
    "        print('{} goes after the {}',format(self.name, thing))\n",
    "    def show_affection(self):\n",
    "        print('{} wags tail'.format(self.name))"
   ]
  },
  {
   "cell_type": "code",
   "execution_count": 13,
   "metadata": {},
   "outputs": [],
   "source": [
    "d = Dog('Soni')"
   ]
  },
  {
   "cell_type": "code",
   "execution_count": 14,
   "metadata": {
    "tags": []
   },
   "outputs": [
    {
     "output_type": "stream",
     "name": "stdout",
     "text": "Soni\n"
    }
   ],
   "source": [
    "print(d.name)"
   ]
  },
  {
   "cell_type": "code",
   "execution_count": 15,
   "metadata": {},
   "outputs": [],
   "source": [
    "import random\n",
    "\n",
    "class Animal(object):\n",
    "    def __init__(self, name):\n",
    "        self.name = name\n",
    "        \n",
    "class Dog(Animal):\n",
    "    def __init__(self, name):\n",
    "        super(Dog, self).__init__(name)\n",
    "        self.breed = random.choice(['Beagle', 'Mutt', 'JermanS'])\n",
    "    def fetch(self, thing):\n",
    "        print('{} goes after the {}',format(self.name, thing))"
   ]
  },
  {
   "cell_type": "code",
   "execution_count": 16,
   "metadata": {},
   "outputs": [],
   "source": [
    "d = Dog('dogname')"
   ]
  },
  {
   "cell_type": "code",
   "execution_count": 17,
   "metadata": {
    "tags": []
   },
   "outputs": [
    {
     "output_type": "stream",
     "name": "stdout",
     "text": "dogname\n"
    }
   ],
   "source": [
    "print(d.name)"
   ]
  },
  {
   "cell_type": "code",
   "execution_count": 18,
   "metadata": {
    "tags": []
   },
   "outputs": [
    {
     "output_type": "stream",
     "name": "stdout",
     "text": "Beagle\n"
    }
   ],
   "source": [
    "print(d.breed)"
   ]
  },
  {
   "cell_type": "markdown",
   "metadata": {},
   "source": [
    "### Multiple Inheritance And The Lookup Tree"
   ]
  },
  {
   "cell_type": "markdown",
   "metadata": {},
   "source": [
    "<img src = 'mro.png'>"
   ]
  },
  {
   "cell_type": "markdown",
   "metadata": {},
   "source": [
    "by default python search in DFS manner"
   ]
  },
  {
   "cell_type": "markdown",
   "metadata": {},
   "source": [
    "so D-B-A-C"
   ]
  },
  {
   "cell_type": "markdown",
   "metadata": {},
   "source": [
    "so dothis() from A is going to execute"
   ]
  },
  {
   "cell_type": "code",
   "execution_count": 19,
   "metadata": {},
   "outputs": [],
   "source": [
    "class A(object):\n",
    "    def dothis(self):\n",
    "        print('Doing this in A')\n",
    "        \n",
    "class B(A):\n",
    "    pass\n",
    "\n",
    "class C(object):\n",
    "    def dothis(self):\n",
    "        print('Doing this in C')\n",
    "        \n",
    "class D(B,C):\n",
    "    pass"
   ]
  },
  {
   "cell_type": "code",
   "execution_count": 20,
   "metadata": {
    "tags": []
   },
   "outputs": [
    {
     "output_type": "stream",
     "name": "stdout",
     "text": "Doing this in A\n"
    }
   ],
   "source": [
    "d = D()\n",
    "d.dothis()"
   ]
  },
  {
   "cell_type": "code",
   "execution_count": 21,
   "metadata": {
    "tags": []
   },
   "outputs": [
    {
     "output_type": "stream",
     "name": "stdout",
     "text": "[<class '__main__.D'>, <class '__main__.B'>, <class '__main__.A'>, <class '__main__.C'>, <class 'object'>]\n"
    }
   ],
   "source": [
    "print(D.mro())"
   ]
  },
  {
   "cell_type": "markdown",
   "metadata": {},
   "source": [
    "<img src = 'mro2.png'>"
   ]
  },
  {
   "cell_type": "code",
   "execution_count": 22,
   "metadata": {},
   "outputs": [],
   "source": [
    "class A(object):\n",
    "    def dothis(self):\n",
    "        print('Doing this in A')\n",
    "        \n",
    "class B(A):\n",
    "    pass\n",
    "\n",
    "class C(A):\n",
    "    def dothis(self):\n",
    "        print('Doing this in C')\n",
    "        \n",
    "class D(B,C):\n",
    "    pass"
   ]
  },
  {
   "cell_type": "code",
   "execution_count": 23,
   "metadata": {
    "tags": []
   },
   "outputs": [
    {
     "output_type": "stream",
     "name": "stdout",
     "text": "Doing this in C\n"
    }
   ],
   "source": [
    "d = D()\n",
    "d.dothis()"
   ]
  },
  {
   "cell_type": "code",
   "execution_count": 24,
   "metadata": {
    "tags": []
   },
   "outputs": [
    {
     "output_type": "stream",
     "name": "stdout",
     "text": "[<class '__main__.D'>, <class '__main__.B'>, <class '__main__.C'>, <class '__main__.A'>, <class 'object'>]\n"
    }
   ],
   "source": [
    "print(D.mro())"
   ]
  },
  {
   "cell_type": "markdown",
   "metadata": {},
   "source": [
    "__Additional Rule to DFS:__\n",
    "if the same class appears in mro (Method resolution order) then the earlier occurances of that class is remove from MRO."
   ]
  },
  {
   "cell_type": "markdown",
   "metadata": {},
   "source": [
    "## Decorators, Static And Class Methods"
   ]
  },
  {
   "cell_type": "code",
   "execution_count": 25,
   "metadata": {
    "tags": []
   },
   "outputs": [
    {
     "output_type": "stream",
     "name": "stdout",
     "text": "val of obj : 5\ncount : 3\nval of obj : 13\ncount : 3\nval of obj : 17\ncount : 3\n"
    }
   ],
   "source": [
    "class InstanceCounter(object):\n",
    "    count = 0\n",
    "    \n",
    "    def __init__(self, val):\n",
    "        self.val = val\n",
    "        InstanceCounter.count += 1\n",
    "    def set_val(self, newval):\n",
    "        self.val = newval\n",
    "    def get_val(self):\n",
    "        return self.val\n",
    "    def get_count(self):\n",
    "        return InstanceCounter.count\n",
    "\n",
    "a = InstanceCounter(5)\n",
    "b = InstanceCounter(13)\n",
    "c = InstanceCounter(17)\n",
    "\n",
    "for obj in (a,b,c):\n",
    "    print('val of obj : {}'.format(obj.get_val()))\n",
    "    print('count : {}'.format(obj.get_count()))"
   ]
  },
  {
   "cell_type": "code",
   "execution_count": 26,
   "metadata": {
    "tags": []
   },
   "outputs": [
    {
     "output_type": "stream",
     "name": "stdout",
     "text": "val of obj : 5\ncount : 3\nval of obj : 13\ncount : 3\nval of obj : 17\ncount : 3\n"
    }
   ],
   "source": [
    "class InstanceCounter(object):\n",
    "    count = 0\n",
    "    \n",
    "    def __init__(self, val):\n",
    "        self.val = val\n",
    "        InstanceCounter.count += 1\n",
    "    def set_val(self, newval):\n",
    "        self.val = newval\n",
    "    def get_val(self):\n",
    "        return self.val\n",
    "    \n",
    "    ## it is for class not for instances \n",
    "    @ classmethod  ## decorator\n",
    "    def get_count(cls):\n",
    "        return cls.count\n",
    "\n",
    "a = InstanceCounter(5)\n",
    "b = InstanceCounter(13)\n",
    "c = InstanceCounter(17)\n",
    "\n",
    "for obj in (a,b,c):\n",
    "    print('val of obj : {}'.format(obj.get_val()))\n",
    "    print('count : {}'.format(obj.get_count()))"
   ]
  },
  {
   "cell_type": "code",
   "execution_count": null,
   "metadata": {},
   "outputs": [],
   "source": []
  },
  {
   "cell_type": "code",
   "execution_count": null,
   "metadata": {},
   "outputs": [],
   "source": []
  },
  {
   "cell_type": "code",
   "execution_count": 27,
   "metadata": {
    "tags": []
   },
   "outputs": [
    {
     "output_type": "stream",
     "name": "stdout",
     "text": "5\n13\n17\n0\n"
    }
   ],
   "source": [
    "class InstanceCounter(object):\n",
    "    count = 0                   # class attrubute = data shared among instances\n",
    "\n",
    "    def __init__(self, val):\n",
    "        self.val = self.filterint(val)\n",
    "        InstanceCounter.count +=1 # access class attribute and increment it\n",
    "\n",
    "    @ staticmethod\n",
    "    def filterint(value): # no implicite self here\n",
    "        if not isinstance(value, int):\n",
    "            return 0\n",
    "        else:\n",
    "            return value\n",
    "\n",
    "a = InstanceCounter(5)\n",
    "b = InstanceCounter(13)\n",
    "c = InstanceCounter(17)\n",
    "d = InstanceCounter('hello')\n",
    "\n",
    "print (a.val)\n",
    "print (b.val)\n",
    "print (c.val)\n",
    "print (d.val)"
   ]
  },
  {
   "cell_type": "markdown",
   "metadata": {},
   "source": [
    "## Abstract Class"
   ]
  },
  {
   "cell_type": "code",
   "execution_count": 28,
   "metadata": {},
   "outputs": [],
   "source": [
    "import abc\n",
    "\n",
    "abc_help = '''\n",
    "Abstract Base Classes in Python (abc)\n",
    "A class is called an Abstract class if it contains\n",
    "one or more abstract methods. An abstract method\n",
    "is a method that is declared, but contains \n",
    "no implementation. Abstract classes may not be\n",
    "instantiated, and its abstract methods must be\n",
    "implemented by its subclasses.\n",
    "\n",
    "Abstract base classes provide a way to define \n",
    "interfaces when other techniques like hasattr()\n",
    "would be clumsy or subtly wrong (for example\n",
    "with magic methods). ABCs introduce virtual\n",
    "subclasses, which are classes that \n",
    "don’t inherit from a class but are \n",
    "still recognized by isinstance() and issubclass()\n",
    "functions. There are many built-in ABCs in Python. ABCs for Data structures like Iterator, Generator, Set, mapping etc. are defined in collections.abc module. The numbers module defines numeric tower which is a collection of base classes for numeric data types. The 'abc' module in Python library provides the infrastructure for defining custom abstract base classes.\n",
    "\n",
    "'abc' works by marking methods of the base class\n",
    "as abstract. This is done by @absttractmethod \n",
    "decorator. A concrete class which is a sub \n",
    "class of such abstract base class then implements \n",
    "the abstract base by overriding its abstract \n",
    "methods.\n",
    "\n",
    "The abc module defines ABCMeta class which \n",
    "is a metaclass for defining abstract base class.\n",
    "'''"
   ]
  },
  {
   "cell_type": "code",
   "execution_count": 29,
   "metadata": {
    "tags": []
   },
   "outputs": [
    {
     "output_type": "stream",
     "name": "stdout",
     "text": "<__main__.MyClass object at 0x0000021D8A603E80>\n"
    }
   ],
   "source": [
    "class GetterSetter(object):\n",
    "    __metaclass__ = abc.ABCMeta\n",
    "\n",
    "    @abc.abstractmethod\n",
    "    def set_val(self, input):\n",
    "        \"\"\"Set a value in the instance\"\"\"\n",
    "        return\n",
    "\n",
    "    @abc.abstractmethod\n",
    "    def get_val(self):\n",
    "        \"\"\"Get and return a value from the instance\"\"\"\n",
    "        return\n",
    "\n",
    "class MyClass(GetterSetter):\n",
    "\n",
    "    def set_val(self, input):\n",
    "        self.val = input\n",
    "\n",
    "    def get_val(self):\n",
    "        return self.val\n",
    "\n",
    "x = MyClass()\n",
    "print(x)\n",
    "\n",
    "y = GetterSetter() # outputs an error since an abstract method can't be instantiated"
   ]
  },
  {
   "cell_type": "code",
   "execution_count": 30,
   "metadata": {
    "tags": []
   },
   "outputs": [
    {
     "output_type": "stream",
     "name": "stdout",
     "text": "area:  200\n"
    }
   ],
   "source": [
    "# another example\n",
    "import abc\n",
    "class Shape(metaclass=abc.ABCMeta):    \n",
    "    @abc.abstractmethod\n",
    "    def area(self):\n",
    "        pass\n",
    "class Rectangle(Shape):\n",
    "    def __init__(self, x,y):\n",
    "        self.l = x\n",
    "        self.b = y\n",
    "    def area(self):\n",
    "        return self.l*self.b\n",
    "r = Rectangle(10,20)\n",
    "print ('area: ',r.area())"
   ]
  },
  {
   "cell_type": "markdown",
   "metadata": {},
   "source": [
    "## Method Overloading - Extending And Providing"
   ]
  },
  {
   "cell_type": "code",
   "execution_count": 31,
   "metadata": {},
   "outputs": [],
   "source": [
    "import abc\n",
    "\n",
    "class GetSetParent(object):\n",
    "\n",
    "    __metaclass__ = abc.ABCMeta\n",
    "\n",
    "    def __init__(self, value):\n",
    "        self.val = 0\n",
    "\n",
    "    def set_val(self, value):\n",
    "        self.val = value\n",
    "\n",
    "    def get_val(self):\n",
    "        return self.val\n",
    "\n",
    "    @abc.abstractmethod\n",
    "    def showdoc(self):\n",
    "        return\n",
    "\n",
    "class GetSetInt(GetSetParent):\n",
    "\n",
    "    def set_val(self, value):\n",
    "        if not isinstance(value, int):\n",
    "            value = 0\n",
    "        super(GetSetInt, self).set_val(value)\n",
    "\n",
    "    def showdoc(self):\n",
    "        print ('GetSetInt object (%r) only accepts integer values' % (id(self)))\n",
    "\n",
    "class GetSetList(GetSetParent):\n",
    "    def __init__(self, value =0):\n",
    "        self.vallist = [value]\n",
    "\n",
    "    def get_val(self):\n",
    "        \"\"\"Returns the last set value\"\"\"\n",
    "        return self.vallist[-1]\n",
    "\n",
    "    def get_vals(self):\n",
    "        \"\"\"Returns a list of all the values set\"\"\"\n",
    "        return self.vallist\n",
    "\n",
    "    def set_val(self, value):\n",
    "        self.vallist.append(value)\n",
    "\n",
    "    def showdoc(self):\n",
    "        print (\"GetSetList object, len %d, stores history of values set\" % len(self.vallist))"
   ]
  },
  {
   "cell_type": "code",
   "execution_count": 32,
   "metadata": {
    "tags": []
   },
   "outputs": [
    {
     "output_type": "stream",
     "name": "stdout",
     "text": "0\n3\n7\n0\nGetSetInt object (2325898924720) only accepts integer values\nGetSetInt object (2325898924664) only accepts integer values\n"
    }
   ],
   "source": [
    "# test run code for GetSetInt\n",
    "x = GetSetInt(5)\n",
    "y = GetSetInt('yum')\n",
    "print (x.get_val()) # 0, inherited from GetSetParent\n",
    "x.set_val(3)\n",
    "y.set_val(7)\n",
    "print (x.get_val()) # 3\n",
    "print (y.get_val()) # 7\n",
    "y.set_val('yum')\n",
    "print (y.get_val()) # 0, set by set_val in GetSetInt\n",
    "x.showdoc()\n",
    "y.showdoc()"
   ]
  },
  {
   "cell_type": "code",
   "execution_count": 33,
   "metadata": {
    "tags": []
   },
   "outputs": [
    {
     "output_type": "stream",
     "name": "stdout",
     "text": "20\n[5, 10, 20]\nGetSetList object, len 3, stores history of values set\n"
    }
   ],
   "source": [
    "# test run code for GetSetList\n",
    "gsl = GetSetList(5)\n",
    "gsl.set_val(10)\n",
    "gsl.set_val(20)\n",
    "print (gsl.get_val())\n",
    "print (gsl.get_vals())\n",
    "gsl.showdoc()"
   ]
  },
  {
   "cell_type": "markdown",
   "metadata": {},
   "source": [
    "## Composition"
   ]
  },
  {
   "cell_type": "code",
   "execution_count": 34,
   "metadata": {
    "tags": []
   },
   "outputs": [
    {
     "output_type": "stream",
     "name": "stdout",
     "text": "file object:  this is a silly message\nStringIO object:  this is a silly message\n"
    }
   ],
   "source": [
    "import random\n",
    "# import StringIO # obsolate in 3\n",
    "import io\n",
    "\n",
    "class WriteMyStuff(object):\n",
    "\n",
    "    def __init__(self, writer):\n",
    "        self.writer = writer\n",
    "\n",
    "    def write(self):\n",
    "        write_text = \"this is a silly message\"\n",
    "        self.writer.write(write_text)\n",
    "\n",
    "# create a file object\n",
    "fh = open('test.txt', 'w')\n",
    "# pass the file object to WriteMyStuff\n",
    "w1 = WriteMyStuff(fh)\n",
    "w1.write()\n",
    "fh.close()\n",
    "\n",
    "# create a StringIO\n",
    "sioh = io.StringIO()\n",
    "# pass it to WriteMyStuff\n",
    "w2 = WriteMyStuff(sioh)\n",
    "# call write() on StringIO\n",
    "w2.write()\n",
    "\n",
    "print ('file object: ', open('test.txt', 'r').read())\n",
    "print ('StringIO object: ', sioh.getvalue())"
   ]
  },
  {
   "cell_type": "code",
   "execution_count": 35,
   "metadata": {
    "tags": []
   },
   "outputs": [
    {
     "output_type": "stream",
     "name": "stdout",
     "text": "Total: 7700\n"
    }
   ],
   "source": [
    "class Salary:\n",
    "    def __init__(self, pay):\n",
    "        self.pay = pay\n",
    " \n",
    "    def get_total(self):\n",
    "        return (self.pay*12)\n",
    " \n",
    " \n",
    "class Employee:\n",
    "    def __init__(self, pay, bonus):\n",
    "        self.pay = pay\n",
    "        self.bonus = bonus\n",
    "        self.obj_salary = Salary(self.pay)\n",
    " \n",
    "    def annual_salary(self):\n",
    "        return \"Total: \" + str(self.obj_salary.get_total() + self.bonus)\n",
    " \n",
    " \n",
    "obj_emp = Employee(600, 500)\n",
    "print(obj_emp.annual_salary())"
   ]
  },
  {
   "cell_type": "code",
   "execution_count": null,
   "metadata": {},
   "outputs": [],
   "source": []
  }
 ],
 "metadata": {
  "kernelspec": {
   "display_name": "Python 3",
   "language": "python",
   "name": "python3"
  },
  "language_info": {
   "codemirror_mode": {
    "name": "ipython",
    "version": 3
   },
   "file_extension": ".py",
   "mimetype": "text/x-python",
   "name": "python",
   "nbconvert_exporter": "python",
   "pygments_lexer": "ipython3",
   "version": "3.5.6-final"
  }
 },
 "nbformat": 4,
 "nbformat_minor": 2
}